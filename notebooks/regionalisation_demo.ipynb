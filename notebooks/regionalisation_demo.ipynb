{
 "cells": [
  {
   "cell_type": "code",
   "execution_count": 1,
   "metadata": {},
   "outputs": [],
   "source": [
    "from brightway2 import *"
   ]
  },
  {
   "cell_type": "code",
   "execution_count": 2,
   "metadata": {},
   "outputs": [],
   "source": [
    "projects.set_current('regionalisation demo')"
   ]
  },
  {
   "cell_type": "markdown",
   "metadata": {},
   "source": [
    "# 1. Create a biosphere with global and regional flows"
   ]
  },
  {
   "cell_type": "code",
   "execution_count": 3,
   "metadata": {},
   "outputs": [
    {
     "name": "stderr",
     "output_type": "stream",
     "text": [
      "Writing activities to SQLite3 database:\n",
      "0% [##] 100% | ETA: 00:00:00\n",
      "Total time elapsed: 00:00:00\n"
     ]
    },
    {
     "name": "stdout",
     "output_type": "stream",
     "text": [
      "Title: Writing activities to SQLite3 database:\n",
      "  Started: 11/21/2020 12:10:37\n",
      "  Finished: 11/21/2020 12:10:37\n",
      "  Total time elapsed: 00:00:00\n",
      "  CPU %: 0.00\n",
      "  Memory %: 0.71\n"
     ]
    }
   ],
   "source": [
    "db = Database('biosphere')\n",
    "\n",
    "biosphere_data = {\n",
    "    ('biosphere', 'global intervention'): {\n",
    "        'name': 'global intervention',\n",
    "        'database': 'biosphere',\n",
    "        'location': 'GLO',\n",
    "        'type': 'emission',\n",
    "        'unit': 'kilogram'\n",
    "    },\n",
    "    ('biosphere', 'regional intervention'): {\n",
    "        'name': 'regional intervention',\n",
    "        'database': 'biosphere',\n",
    "        'location': 'REG',\n",
    "        'type': 'emission',\n",
    "        'unit': 'kilogram'\n",
    "    }  \n",
    "}\n",
    "\n",
    "\n",
    "db.write(biosphere_data)"
   ]
  },
  {
   "cell_type": "markdown",
   "metadata": {},
   "source": [
    "# 2. Create a database using both biosphere flows"
   ]
  },
  {
   "cell_type": "code",
   "execution_count": 4,
   "metadata": {},
   "outputs": [
    {
     "name": "stderr",
     "output_type": "stream",
     "text": [
      "Writing activities to SQLite3 database:\n",
      "0% [##] 100% | ETA: 00:00:00\n",
      "Total time elapsed: 00:00:00\n"
     ]
    },
    {
     "name": "stdout",
     "output_type": "stream",
     "text": [
      "Title: Writing activities to SQLite3 database:\n",
      "  Started: 11/21/2020 12:10:39\n",
      "  Finished: 11/21/2020 12:10:39\n",
      "  Total time elapsed: 00:00:00\n",
      "  CPU %: 207.20\n",
      "  Memory %: 0.72\n"
     ]
    }
   ],
   "source": [
    "db = Database('example')\n",
    "\n",
    "lci_data = {\n",
    "    ('example', 'A'): {\n",
    "        'name': 'A',\n",
    "        'exchanges': [{\n",
    "            'amount': 1.0,\n",
    "            'input': ('biosphere', 'global intervention'),\n",
    "            'type': 'biosphere'}],\n",
    "        'unit': 'kilogram',\n",
    "        'location': 'GLO',\n",
    "        'categories': ('very', 'interesting')\n",
    "        },\n",
    "    ('example', 'B'): {\n",
    "        'name': 'B',\n",
    "        'exchanges': [{\n",
    "            'amount': 1.0,\n",
    "            'input': ('biosphere', 'regional intervention'),\n",
    "            'type': 'biosphere'}],\n",
    "        'unit': 'kilogram',\n",
    "        'location': 'REG',\n",
    "        'categories': ('very', 'interesting')\n",
    "    }\n",
    "}\n",
    "\n",
    "db.write(lci_data)"
   ]
  },
  {
   "cell_type": "markdown",
   "metadata": {},
   "source": [
    "# 3. Create and test IA method with *global and regional* cfs"
   ]
  },
  {
   "cell_type": "code",
   "execution_count": 6,
   "metadata": {},
   "outputs": [
    {
     "ename": "MultipleInvalid",
     "evalue": "expected a list @ data[0]",
     "output_type": "error",
     "traceback": [
      "\u001b[0;31m---------------------------------------------------------------------------\u001b[0m",
      "\u001b[0;31mMultipleInvalid\u001b[0m                           Traceback (most recent call last)",
      "\u001b[0;32m<ipython-input-6-412f000f043d>\u001b[0m in \u001b[0;36m<module>\u001b[0;34m()\u001b[0m\n\u001b[1;32m      6\u001b[0m ]\n\u001b[1;32m      7\u001b[0m \u001b[0;34m\u001b[0m\u001b[0m\n\u001b[0;32m----> 8\u001b[0;31m \u001b[0mmy_method\u001b[0m\u001b[0;34m.\u001b[0m\u001b[0mvalidate\u001b[0m\u001b[0;34m(\u001b[0m\u001b[0mmethod_data\u001b[0m\u001b[0;34m)\u001b[0m \u001b[0;31m# Validation fails with list of tuples:\u001b[0m\u001b[0;34m\u001b[0m\u001b[0;34m\u001b[0m\u001b[0m\n\u001b[0m\u001b[1;32m      9\u001b[0m \u001b[0;31m# MultipleInvalid: expected a list @ data[0]\u001b[0m\u001b[0;34m\u001b[0m\u001b[0;34m\u001b[0m\u001b[0;34m\u001b[0m\u001b[0m\n\u001b[1;32m     10\u001b[0m \u001b[0mmy_method\u001b[0m\u001b[0;34m.\u001b[0m\u001b[0mregister\u001b[0m\u001b[0;34m(\u001b[0m\u001b[0;34m)\u001b[0m\u001b[0;34m\u001b[0m\u001b[0;34m\u001b[0m\u001b[0m\n",
      "\u001b[0;32m/home/paul/Programs/miniconda3/envs/toy_example/lib/python3.6/site-packages/bw2data/data_store.py\u001b[0m in \u001b[0;36mvalidate\u001b[0;34m(self, data)\u001b[0m\n\u001b[1;32m    277\u001b[0m     \u001b[0;32mdef\u001b[0m \u001b[0mvalidate\u001b[0m\u001b[0;34m(\u001b[0m\u001b[0mself\u001b[0m\u001b[0;34m,\u001b[0m \u001b[0mdata\u001b[0m\u001b[0;34m)\u001b[0m\u001b[0;34m:\u001b[0m\u001b[0;34m\u001b[0m\u001b[0;34m\u001b[0m\u001b[0m\n\u001b[1;32m    278\u001b[0m         \u001b[0;34m\"\"\"Validate data. Must be called manually.\"\"\"\u001b[0m\u001b[0;34m\u001b[0m\u001b[0;34m\u001b[0m\u001b[0m\n\u001b[0;32m--> 279\u001b[0;31m         \u001b[0mself\u001b[0m\u001b[0;34m.\u001b[0m\u001b[0mvalidator\u001b[0m\u001b[0;34m(\u001b[0m\u001b[0mdata\u001b[0m\u001b[0;34m)\u001b[0m\u001b[0;34m\u001b[0m\u001b[0;34m\u001b[0m\u001b[0m\n\u001b[0m\u001b[1;32m    280\u001b[0m         \u001b[0;32mreturn\u001b[0m \u001b[0;32mTrue\u001b[0m\u001b[0;34m\u001b[0m\u001b[0;34m\u001b[0m\u001b[0m\n",
      "\u001b[0;32m/home/paul/Programs/miniconda3/envs/toy_example/lib/python3.6/site-packages/voluptuous/schema_builder.py\u001b[0m in \u001b[0;36m__call__\u001b[0;34m(self, data)\u001b[0m\n\u001b[1;32m    270\u001b[0m         \u001b[0;34m\"\"\"Validate data against this schema.\"\"\"\u001b[0m\u001b[0;34m\u001b[0m\u001b[0;34m\u001b[0m\u001b[0m\n\u001b[1;32m    271\u001b[0m         \u001b[0;32mtry\u001b[0m\u001b[0;34m:\u001b[0m\u001b[0;34m\u001b[0m\u001b[0;34m\u001b[0m\u001b[0m\n\u001b[0;32m--> 272\u001b[0;31m             \u001b[0;32mreturn\u001b[0m \u001b[0mself\u001b[0m\u001b[0;34m.\u001b[0m\u001b[0m_compiled\u001b[0m\u001b[0;34m(\u001b[0m\u001b[0;34m[\u001b[0m\u001b[0;34m]\u001b[0m\u001b[0;34m,\u001b[0m \u001b[0mdata\u001b[0m\u001b[0;34m)\u001b[0m\u001b[0;34m\u001b[0m\u001b[0;34m\u001b[0m\u001b[0m\n\u001b[0m\u001b[1;32m    273\u001b[0m         \u001b[0;32mexcept\u001b[0m \u001b[0mer\u001b[0m\u001b[0;34m.\u001b[0m\u001b[0mMultipleInvalid\u001b[0m\u001b[0;34m:\u001b[0m\u001b[0;34m\u001b[0m\u001b[0;34m\u001b[0m\u001b[0m\n\u001b[1;32m    274\u001b[0m             \u001b[0;32mraise\u001b[0m\u001b[0;34m\u001b[0m\u001b[0;34m\u001b[0m\u001b[0m\n",
      "\u001b[0;32m/home/paul/Programs/miniconda3/envs/toy_example/lib/python3.6/site-packages/voluptuous/schema_builder.py\u001b[0m in \u001b[0;36mvalidate_sequence\u001b[0;34m(path, data)\u001b[0m\n\u001b[1;32m    644\u001b[0m                     \u001b[0merrors\u001b[0m\u001b[0;34m.\u001b[0m\u001b[0mappend\u001b[0m\u001b[0;34m(\u001b[0m\u001b[0minvalid\u001b[0m\u001b[0;34m)\u001b[0m\u001b[0;34m\u001b[0m\u001b[0;34m\u001b[0m\u001b[0m\n\u001b[1;32m    645\u001b[0m             \u001b[0;32mif\u001b[0m \u001b[0merrors\u001b[0m\u001b[0;34m:\u001b[0m\u001b[0;34m\u001b[0m\u001b[0;34m\u001b[0m\u001b[0m\n\u001b[0;32m--> 646\u001b[0;31m                 \u001b[0;32mraise\u001b[0m \u001b[0mer\u001b[0m\u001b[0;34m.\u001b[0m\u001b[0mMultipleInvalid\u001b[0m\u001b[0;34m(\u001b[0m\u001b[0merrors\u001b[0m\u001b[0;34m)\u001b[0m\u001b[0;34m\u001b[0m\u001b[0;34m\u001b[0m\u001b[0m\n\u001b[0m\u001b[1;32m    647\u001b[0m \u001b[0;34m\u001b[0m\u001b[0m\n\u001b[1;32m    648\u001b[0m             \u001b[0;32mif\u001b[0m \u001b[0m_isnamedtuple\u001b[0m\u001b[0;34m(\u001b[0m\u001b[0mdata\u001b[0m\u001b[0;34m)\u001b[0m\u001b[0;34m:\u001b[0m\u001b[0;34m\u001b[0m\u001b[0;34m\u001b[0m\u001b[0m\n",
      "\u001b[0;31mMultipleInvalid\u001b[0m: expected a list @ data[0]"
     ]
    }
   ],
   "source": [
    "my_method = Method(('my method', 'a method', 'oh what a method'))\n",
    "\n",
    "method_data = [\n",
    "    (('biosphere', 'global intervention'),1, u'GLO'),\n",
    "    (('biosphere', 'regional intervention'),1, u'REG')\n",
    "]\n",
    "\n",
    "my_method.validate(method_data) # Validation fails with list of tuples: \n",
    "my_method.register() \n",
    "my_method.write(method_data)\n",
    "my_method.process()"
   ]
  },
  {
   "cell_type": "code",
   "execution_count": 8,
   "metadata": {},
   "outputs": [],
   "source": [
    "my_method = Method(('my method', 'a method', 'oh what a method'))\n",
    "\n",
    "method_data = [\n",
    "    (('biosphere', 'global intervention'),1, u'GLO'),\n",
    "    (('biosphere', 'regional intervention'),1, u'REG')\n",
    "]\n",
    "\n",
    "# my_method.validate(method_data) # Validation fails with list of tuples: \n",
    "my_method.register() \n",
    "my_method.write(method_data)\n",
    "my_method.process()"
   ]
  },
  {
   "cell_type": "code",
   "execution_count": 9,
   "metadata": {},
   "outputs": [
    {
     "name": "stdout",
     "output_type": "stream",
     "text": [
      "[[1.]\n",
      " [0.]]\n"
     ]
    }
   ],
   "source": [
    "chosen_methods = [('my method', 'a method', 'oh what a method')]\n",
    "\n",
    "\n",
    "functional_units = [{Database('example').get('A'): 1},\n",
    "                    {Database('example').get('B'): 1}]\n",
    "\n",
    "my_calculation_setup = {'inv': functional_units, 'ia': chosen_methods}\n",
    "calculation_setups['comparing glo and reg'] = my_calculation_setup\n",
    "\n",
    "mlca = MultiLCA('comparing glo and reg')\n",
    "\n",
    "print(mlca.results)"
   ]
  },
  {
   "cell_type": "markdown",
   "metadata": {},
   "source": [
    "# 5. Create and test IA method with *global* cfs"
   ]
  },
  {
   "cell_type": "code",
   "execution_count": 10,
   "metadata": {},
   "outputs": [],
   "source": [
    "my_method = Method(('my method', 'a method', 'oh what a method'))\n",
    "\n",
    "method_data = [\n",
    "    (('biosphere', 'global intervention'),1, u'GLO'),\n",
    "    (('biosphere', 'regional intervention'),1, u'GLO')\n",
    "]\n",
    "\n",
    "# my_method.validate(method_data)\n",
    "my_method.register() \n",
    "my_method.write(method_data)\n",
    "my_method.process()"
   ]
  },
  {
   "cell_type": "code",
   "execution_count": 11,
   "metadata": {},
   "outputs": [
    {
     "name": "stdout",
     "output_type": "stream",
     "text": [
      "[[1.]\n",
      " [1.]]\n"
     ]
    }
   ],
   "source": [
    "chosen_methods = [('my method', 'a method', 'oh what a method')]\n",
    "\n",
    "\n",
    "functional_units = [{Database('example').get('A'): 1},\n",
    "                    {Database('example').get('B'): 1}]\n",
    "\n",
    "my_calculation_setup = {'inv': functional_units, 'ia': chosen_methods}\n",
    "calculation_setups['comparing glo and reg'] = my_calculation_setup\n",
    "\n",
    "mlca = MultiLCA('comparing glo and reg')\n",
    "\n",
    "print(mlca.results)"
   ]
  },
  {
   "cell_type": "markdown",
   "metadata": {},
   "source": [
    "# 6. Create and test IA method with *unspecified* cfs"
   ]
  },
  {
   "cell_type": "code",
   "execution_count": 12,
   "metadata": {},
   "outputs": [],
   "source": [
    "my_method = Method(('my method', 'a method', 'oh what a method'))\n",
    "\n",
    "method_data = [\n",
    "    (('biosphere', 'global intervention'),1),\n",
    "    (('biosphere', 'regional intervention'),1)\n",
    "]\n",
    "\n",
    "# my_method.validate(method_data)\n",
    "my_method.register() \n",
    "my_method.write(method_data)\n",
    "my_method.process()"
   ]
  },
  {
   "cell_type": "code",
   "execution_count": 13,
   "metadata": {},
   "outputs": [
    {
     "name": "stdout",
     "output_type": "stream",
     "text": [
      "[[1.]\n",
      " [1.]]\n"
     ]
    }
   ],
   "source": [
    "chosen_methods = [('my method', 'a method', 'oh what a method')]\n",
    "\n",
    "\n",
    "functional_units = [{Database('example').get('A'): 1},\n",
    "                    {Database('example').get('B'): 1}]\n",
    "\n",
    "my_calculation_setup = {'inv': functional_units, 'ia': chosen_methods}\n",
    "calculation_setups['comparing glo and reg'] = my_calculation_setup\n",
    "\n",
    "mlca = MultiLCA('comparing glo and reg')\n",
    "\n",
    "print(mlca.results)"
   ]
  }
 ],
 "metadata": {
  "kernelspec": {
   "display_name": "Python 3",
   "language": "python",
   "name": "python3"
  },
  "language_info": {
   "codemirror_mode": {
    "name": "ipython",
    "version": 3
   },
   "file_extension": ".py",
   "mimetype": "text/x-python",
   "name": "python",
   "nbconvert_exporter": "python",
   "pygments_lexer": "ipython3",
   "version": "3.6.12"
  }
 },
 "nbformat": 4,
 "nbformat_minor": 4
}
