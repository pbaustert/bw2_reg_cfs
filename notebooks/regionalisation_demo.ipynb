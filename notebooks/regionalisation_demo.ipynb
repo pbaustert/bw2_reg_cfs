{
 "cells": [
  {
   "cell_type": "code",
   "execution_count": null,
   "metadata": {},
   "outputs": [],
   "source": [
    "from brightway2 import *"
   ]
  },
  {
   "cell_type": "code",
   "execution_count": null,
   "metadata": {},
   "outputs": [],
   "source": [
    "projects.set_current('regionalisation demo')"
   ]
  },
  {
   "cell_type": "markdown",
   "metadata": {},
   "source": [
    "# 1. Create a biosphere with global and regional flows"
   ]
  },
  {
   "cell_type": "code",
   "execution_count": null,
   "metadata": {},
   "outputs": [],
   "source": [
    "db = Database('biosphere')\n",
    "\n",
    "biosphere_data = {\n",
    "    ('biosphere', 'global intervention'): {\n",
    "        'name': 'global intervention',\n",
    "        'database': 'biosphere',\n",
    "        'location': 'GLO',\n",
    "        'type': 'emission',\n",
    "        'unit': 'kilogram'\n",
    "    },\n",
    "    ('biosphere', 'regional intervention'): {\n",
    "        'name': 'regional intervention',\n",
    "        'database': 'biosphere',\n",
    "        'location': 'REG',\n",
    "        'type': 'emission',\n",
    "        'unit': 'kilogram'\n",
    "    }  \n",
    "}\n",
    "\n",
    "\n",
    "db.write(biosphere_data)"
   ]
  },
  {
   "cell_type": "markdown",
   "metadata": {},
   "source": [
    "# 2. Create a database using both biosphere flows"
   ]
  },
  {
   "cell_type": "code",
   "execution_count": null,
   "metadata": {},
   "outputs": [],
   "source": [
    "db = Database('example')\n",
    "\n",
    "lci_data = {\n",
    "    ('example', 'A'): {\n",
    "        'name': 'A',\n",
    "        'exchanges': [{\n",
    "            'amount': 1.0,\n",
    "            'input': ('biosphere', 'global intervention'),\n",
    "            'type': 'biosphere'}],\n",
    "        'unit': 'kilogram',\n",
    "        'location': 'GLO',\n",
    "        'categories': ('very', 'interesting')\n",
    "        },\n",
    "    ('example', 'B'): {\n",
    "        'name': 'B',\n",
    "        'exchanges': [{\n",
    "            'amount': 1.0,\n",
    "            'input': ('biosphere', 'regional intervention'),\n",
    "            'type': 'biosphere'}],\n",
    "        'unit': 'kilogram',\n",
    "        'location': 'REG',\n",
    "        'categories': ('very', 'interesting')\n",
    "    }\n",
    "}\n",
    "\n",
    "db.write(lci_data)"
   ]
  },
  {
   "cell_type": "markdown",
   "metadata": {},
   "source": [
    "# 3. Create and test IA method with *global and regional* cfs"
   ]
  },
  {
   "cell_type": "code",
   "execution_count": null,
   "metadata": {},
   "outputs": [],
   "source": [
    "my_method = Method(('my method', 'a method', 'oh what a method'))\n",
    "\n",
    "method_data = [\n",
    "    (('biosphere', 'global intervention'),1, u'GLO'),\n",
    "    (('biosphere', 'regional intervention'),1, u'REG')\n",
    "]\n",
    "\n",
    "# my_method.validate(method_data) # Validation fails with list of tuples: \n",
    "# MultipleInvalid: expected a list @ data[0]\n",
    "my_method.register() \n",
    "my_method.write(method_data)\n",
    "my_method.process()"
   ]
  },
  {
   "cell_type": "code",
   "execution_count": null,
   "metadata": {},
   "outputs": [],
   "source": [
    "chosen_methods = [('my method', 'a method', 'oh what a method')]\n",
    "\n",
    "\n",
    "functional_units = [{Database('example').get('A'): 1},\n",
    "                    {Database('example').get('B'): 1}]\n",
    "\n",
    "my_calculation_setup = {'inv': functional_units, 'ia': chosen_methods}\n",
    "calculation_setups['comparing glo and reg'] = my_calculation_setup\n",
    "\n",
    "mlca = MultiLCA('comparing glo and reg')\n",
    "\n",
    "print(mlca.results)"
   ]
  },
  {
   "cell_type": "markdown",
   "metadata": {},
   "source": [
    "# 5. Create and test IA method with *global* cfs"
   ]
  },
  {
   "cell_type": "code",
   "execution_count": null,
   "metadata": {},
   "outputs": [],
   "source": [
    "my_method = Method(('my method', 'a method', 'oh what a method'))\n",
    "\n",
    "method_data = [\n",
    "    (('biosphere', 'global intervention'),1, u'GLO'),\n",
    "    (('biosphere', 'regional intervention'),1, u'GLO')\n",
    "]\n",
    "\n",
    "# my_method.validate(method_data)\n",
    "my_method.register() \n",
    "my_method.write(method_data)\n",
    "my_method.process()"
   ]
  },
  {
   "cell_type": "code",
   "execution_count": null,
   "metadata": {},
   "outputs": [],
   "source": [
    "chosen_methods = [('my method', 'a method', 'oh what a method')]\n",
    "\n",
    "\n",
    "functional_units = [{Database('example').get('A'): 1},\n",
    "                    {Database('example').get('B'): 1}]\n",
    "\n",
    "my_calculation_setup = {'inv': functional_units, 'ia': chosen_methods}\n",
    "calculation_setups['comparing glo and reg'] = my_calculation_setup\n",
    "\n",
    "mlca = MultiLCA('comparing glo and reg')\n",
    "\n",
    "print(mlca.results)"
   ]
  },
  {
   "cell_type": "markdown",
   "metadata": {},
   "source": [
    "# 6. Create and test IA method with *unspecified* cfs"
   ]
  },
  {
   "cell_type": "code",
   "execution_count": null,
   "metadata": {},
   "outputs": [],
   "source": [
    "my_method = Method(('my method', 'a method', 'oh what a method'))\n",
    "\n",
    "method_data = [\n",
    "    (('biosphere', 'global intervention'),1),\n",
    "    (('biosphere', 'regional intervention'),1)\n",
    "]\n",
    "\n",
    "# my_method.validate(method_data)\n",
    "my_method.register() \n",
    "my_method.write(method_data)\n",
    "my_method.process()"
   ]
  },
  {
   "cell_type": "code",
   "execution_count": null,
   "metadata": {},
   "outputs": [],
   "source": [
    "chosen_methods = [('my method', 'a method', 'oh what a method')]\n",
    "\n",
    "\n",
    "functional_units = [{Database('example').get('A'): 1},\n",
    "                    {Database('example').get('B'): 1}]\n",
    "\n",
    "my_calculation_setup = {'inv': functional_units, 'ia': chosen_methods}\n",
    "calculation_setups['comparing glo and reg'] = my_calculation_setup\n",
    "\n",
    "mlca = MultiLCA('comparing glo and reg')\n",
    "\n",
    "print(mlca.results)"
   ]
  }
 ],
 "metadata": {
  "kernelspec": {
   "display_name": "Python 3",
   "language": "python",
   "name": "python3"
  },
  "language_info": {
   "codemirror_mode": {
    "name": "ipython",
    "version": 3
   },
   "file_extension": ".py",
   "mimetype": "text/x-python",
   "name": "python",
   "nbconvert_exporter": "python",
   "pygments_lexer": "ipython3",
   "version": "3.6.12"
  }
 },
 "nbformat": 4,
 "nbformat_minor": 4
}
